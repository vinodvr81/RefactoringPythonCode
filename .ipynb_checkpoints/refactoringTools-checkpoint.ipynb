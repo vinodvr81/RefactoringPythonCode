{
 "cells": [
  {
   "cell_type": "markdown",
   "metadata": {},
   "source": [
    "(1) Use this package by intalling pip install autopep8"
   ]
  },
  {
   "cell_type": "markdown",
   "metadata": {},
   "source": [
    " autopep8 --in-place --aggressive --aggressive <filename>\n",
    "    \n",
    "import autopep8\n",
    "\n",
    "\n",
    "autopep8.fix_code\n",
    "\n",
    "\n",
    "$ pip install --upgrade setuptools"
   ]
  },
  {
   "cell_type": "markdown",
   "metadata": {},
   "source": [
    "https://pypi.org/project/autopep8/"
   ]
  },
  {
   "cell_type": "markdown",
   "metadata": {},
   "source": [
    "to upgrade and any issues while installation"
   ]
  },
  {
   "cell_type": "markdown",
   "metadata": {},
   "source": [
    "https://pypi.org/project/setuptools-pep8/"
   ]
  },
  {
   "cell_type": "markdown",
   "metadata": {},
   "source": [
    "https://pypi.org/project/pycodestyle/"
   ]
  },
  {
   "cell_type": "code",
   "execution_count": 2,
   "metadata": {},
   "outputs": [
    {
     "ename": "SyntaxError",
     "evalue": "invalid syntax (<ipython-input-2-1fdbaffb3849>, line 1)",
     "output_type": "error",
     "traceback": [
      "\u001b[1;36m  File \u001b[1;32m\"<ipython-input-2-1fdbaffb3849>\"\u001b[1;36m, line \u001b[1;32m1\u001b[0m\n\u001b[1;33m    pycodestyle --first optparse.py\u001b[0m\n\u001b[1;37m                               ^\u001b[0m\n\u001b[1;31mSyntaxError\u001b[0m\u001b[1;31m:\u001b[0m invalid syntax\n"
     ]
    }
   ],
   "source": [
    "pycodestyle --first optparse.py\n",
    "\n",
    "pycodestyle --show-source --show-pep8 testsuite/E40.py\n",
    "\n",
    "pycodestyle --statistics -qq Python-2.5/Lib"
   ]
  },
  {
   "cell_type": "markdown",
   "metadata": {},
   "source": [
    "https://stackoverflow.com/questions/38134086/how-to-run-pylint-with-pycharm  \n",
    "\n",
    "How to run pylint using pycharm"
   ]
  },
  {
   "cell_type": "markdown",
   "metadata": {},
   "source": [
    "pydocstyle is a static analysis tool for checking compliance with Python docstring conventions.\n",
    "\n",
    "pydocstyle supports most of PEP 257 out of the box, but it should not be considered a reference implementation.\n",
    "\n",
    "pydocstyle supports Python 3.5, 3.6, 3.7 and 3.8."
   ]
  },
  {
   "cell_type": "markdown",
   "metadata": {},
   "source": [
    "https://pypi.org/project/pydocstyle/"
   ]
  },
  {
   "cell_type": "markdown",
   "metadata": {},
   "source": [
    "rope library\n",
    "\n",
    "https://pypi.org/project/rope/"
   ]
  },
  {
   "cell_type": "markdown",
   "metadata": {},
   "source": [
    "https://pypi.org/project/rope/#description"
   ]
  },
  {
   "cell_type": "code",
   "execution_count": null,
   "metadata": {},
   "outputs": [],
   "source": []
  },
  {
   "cell_type": "markdown",
   "metadata": {},
   "source": [
    "(2) Using Pycharm\n",
    "\n",
    "https://blog.jetbrains.com/pycharm/2015/02/feature-spotlight-refactoring-python-code/"
   ]
  },
  {
   "cell_type": "code",
   "execution_count": null,
   "metadata": {},
   "outputs": [],
   "source": []
  }
 ],
 "metadata": {
  "kernelspec": {
   "display_name": "Python 3",
   "language": "python",
   "name": "python3"
  },
  "language_info": {
   "codemirror_mode": {
    "name": "ipython",
    "version": 3
   },
   "file_extension": ".py",
   "mimetype": "text/x-python",
   "name": "python",
   "nbconvert_exporter": "python",
   "pygments_lexer": "ipython3",
   "version": "3.6.5"
  }
 },
 "nbformat": 4,
 "nbformat_minor": 2
}
